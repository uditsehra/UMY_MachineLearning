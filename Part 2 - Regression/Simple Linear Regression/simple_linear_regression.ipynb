{
  "cells": [
    {
      "cell_type": "markdown",
      "source": [
        "# Importing the libraries"
      ],
      "metadata": {
        "id": "RSabIkxItAcV"
      },
      "id": "RSabIkxItAcV"
    },
    {
      "cell_type": "code",
      "source": [
        "import numpy as np\n",
        "import pandas as pd\n",
        "import sklearn\n",
        "import matplotlib.pyplot as plt"
      ],
      "metadata": {
        "id": "maUTEVE7tQGt"
      },
      "id": "maUTEVE7tQGt",
      "execution_count": 1,
      "outputs": []
    },
    {
      "cell_type": "markdown",
      "source": [
        "# Importing the dataset"
      ],
      "metadata": {
        "id": "FB5IxQhgtGEh"
      },
      "id": "FB5IxQhgtGEh"
    },
    {
      "cell_type": "code",
      "source": [],
      "metadata": {
        "id": "CAoCovKrtPjp"
      },
      "id": "CAoCovKrtPjp",
      "execution_count": null,
      "outputs": []
    },
    {
      "cell_type": "markdown",
      "source": [
        "# Splitting data into train and test set"
      ],
      "metadata": {
        "id": "FDHBXmhRtJx4"
      },
      "id": "FDHBXmhRtJx4"
    },
    {
      "cell_type": "code",
      "source": [],
      "metadata": {
        "id": "eYt3lRGdtfID"
      },
      "id": "eYt3lRGdtfID",
      "execution_count": null,
      "outputs": []
    },
    {
      "cell_type": "markdown",
      "source": [
        "# Training the simple linear regression model on dataset"
      ],
      "metadata": {
        "id": "Hf4NZrjKtUiO"
      },
      "id": "Hf4NZrjKtUiO"
    },
    {
      "cell_type": "code",
      "source": [],
      "metadata": {
        "id": "mcQjCfxYteSO"
      },
      "id": "mcQjCfxYteSO",
      "execution_count": null,
      "outputs": []
    },
    {
      "cell_type": "code",
      "source": [],
      "metadata": {
        "id": "7_Xne1TztEgd"
      },
      "id": "7_Xne1TztEgd",
      "execution_count": null,
      "outputs": []
    }
  ],
  "metadata": {
    "kernelspec": {
      "display_name": "Python 3 (ipykernel)",
      "language": "python",
      "name": "python3"
    },
    "language_info": {
      "codemirror_mode": {
        "name": "ipython",
        "version": 3
      },
      "file_extension": ".py",
      "mimetype": "text/x-python",
      "name": "python",
      "nbconvert_exporter": "python",
      "pygments_lexer": "ipython3",
      "version": "3.9.6"
    },
    "colab": {
      "provenance": [],
      "toc_visible": true
    }
  },
  "nbformat": 4,
  "nbformat_minor": 5
}